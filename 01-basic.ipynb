{
 "cells": [
  {
   "cell_type": "code",
   "execution_count": 9,
   "id": "e179feee-4b7e-4144-8cf1-7b183f843b2a",
   "metadata": {},
   "outputs": [],
   "source": [
    "# NOTE:\n",
    "# Doesn't seem to work with MakerSuite"
   ]
  },
  {
   "cell_type": "code",
   "execution_count": 10,
   "id": "71f03027-29d1-4eda-bb21-324e18c84135",
   "metadata": {},
   "outputs": [
    {
     "data": {
      "text/plain": [
       "'0.1.5'"
      ]
     },
     "execution_count": 10,
     "metadata": {},
     "output_type": "execute_result"
    }
   ],
   "source": [
    "import guidance\n",
    "\n",
    "# Guidance version 0.1.5 supports LiteLLM!\n",
    "guidance.__version__"
   ]
  },
  {
   "cell_type": "code",
   "execution_count": 11,
   "id": "bc8404aa-1dce-4631-9ff7-a89f10f0ea24",
   "metadata": {},
   "outputs": [],
   "source": [
    "from guidance import models, gen\n",
    "\n",
    "\n",
    "# palm2 = models.VertexAI(\"text-bison@001\")\n",
    "\n",
    "# append text or generations to the model\n",
    "# palm2 + f'Do you want a joke or a poem? ' + gen(stop='.')"
   ]
  },
  {
   "cell_type": "code",
   "execution_count": 15,
   "id": "ce6955b6-571d-444d-a86d-26c37f6d53f9",
   "metadata": {},
   "outputs": [
    {
     "data": {
      "text/html": [
       "<pre style='margin: 0px; padding: 0px; padding-left: 8px; margin-left: -8px; border-radius: 0px; border-left: 1px solid rgba(127, 127, 127, 0.2); white-space: pre-wrap; font-family: ColfaxAI, Arial; font-size: 15px; line-height: 23px;'>Do you want a joke or a poem? <span style='background-color: rgba(0, 165, 0, 0.15); border-radius: 3px;' title='0.0'>&gt;</span><span style='background-color: rgba(0, 165, 0, 0.15); border-radius: 3px;' title='0.0'> A</span><span style='background-color: rgba(0, 165, 0, 0.15); border-radius: 3px;' title='0.0'> joke</span><span style='background-color: rgba(0, 165, 0, 0.15); border-radius: 3px;' title='0.0'>:</span><span style='background-color: rgba(0, 165, 0, 0.15); border-radius: 3px;' title='0.0'> Why</span><span style='background-color: rgba(0, 165, 0, 0.15); border-radius: 3px;' title='0.0'> did</span><span style='background-color: rgba(0, 165, 0, 0.15); border-radius: 3px;' title='0.0'> the</span><span style='background-color: rgba(0, 165, 0, 0.15); border-radius: 3px;' title='0.0'> scare</span><span style='background-color: rgba(0, 165, 0, 0.15); border-radius: 3px;' title='0.0'>crow</span><span style='background-color: rgba(0, 165, 0, 0.15); border-radius: 3px;' title='0.0'> win</span><span style='background-color: rgba(0, 165, 0, 0.15); border-radius: 3px;' title='0.0'> an</span><span style='background-color: rgba(0, 165, 0, 0.15); border-radius: 3px;' title='0.0'> award</span><span style='background-color: rgba(0, 165, 0, 0.15); border-radius: 3px;' title='0.0'>?</span><span style='background-color: rgba(0, 165, 0, 0.15); border-radius: 3px;' title='0.0'> Because</span><span style='background-color: rgba(0, 165, 0, 0.15); border-radius: 3px;' title='0.0'> he</span><span style='background-color: rgba(0, 165, 0, 0.15); border-radius: 3px;' title='0.0'> was</span><span style='background-color: rgba(0, 165, 0, 0.15); border-radius: 3px;' title='0.0'> outstanding</span><span style='background-color: rgba(0, 165, 0, 0.15); border-radius: 3px;' title='0.0'> in</span><span style='background-color: rgba(0, 165, 0, 0.15); border-radius: 3px;' title='0.0'> his</span><span style='background-color: rgba(0, 165, 0, 0.15); border-radius: 3px;' title='0.0'> field</span><span style='background-color: rgba(0, 165, 0, 0.15); border-radius: 3px;' title='0.0'>!</span><span style='background-color: rgba(0, 165, 0, 0.15); border-radius: 3px;' title='0.0'>\n",
       "</span><span style='background-color: rgba(0, 165, 0, 0.15); border-radius: 3px;' title='0.0'>&gt;</span><span style='background-color: rgba(0, 165, 0, 0.15); border-radius: 3px;' title='0.0'>\n",
       "</span><span style='background-color: rgba(0, 165, 0, 0.15); border-radius: 3px;' title='0.0'>&gt;</span><span style='background-color: rgba(0, 165, 0, 0.15); border-radius: 3px;' title='0.0'> A</span><span style='background-color: rgba(0, 165, 0, 0.15); border-radius: 3px;' title='0.0'> poem</span><span style='background-color: rgba(0, 165, 0, 0.15); border-radius: 3px;' title='0.0'>:</span><span style='background-color: rgba(0, 165, 0, 0.15); border-radius: 3px;' title='0.0'> **</span><span style='background-color: rgba(0, 165, 0, 0.15); border-radius: 3px;' title='0.0'>The</span><span style='background-color: rgba(0, 165, 0, 0.15); border-radius: 3px;' title='0.0'> World</span><span style='background-color: rgba(0, 165, 0, 0.15); border-radius: 3px;' title='0.0'> is</span><span style='background-color: rgba(0, 165, 0, 0.15); border-radius: 3px;' title='0.0'> a</span><span style='background-color: rgba(0, 165, 0, 0.15); border-radius: 3px;' title='0.0'> Beautiful</span><span style='background-color: rgba(0, 165, 0, 0.15); border-radius: 3px;' title='0.0'> Place</span><span style='background-color: rgba(0, 165, 0, 0.15); border-radius: 3px;' title='0.0'>**</span><span style='background-color: rgba(0, 165, 0, 0.15); border-radius: 3px;' title='0.0'>\n",
       "\n",
       "</span><span style='background-color: rgba(0, 165, 0, 0.15); border-radius: 3px;' title='0.0'>The</span><span style='background-color: rgba(0, 165, 0, 0.15); border-radius: 3px;' title='0.0'> world</span><span style='background-color: rgba(0, 165, 0, 0.15); border-radius: 3px;' title='0.0'> is</span><span style='background-color: rgba(0, 165, 0, 0.15); border-radius: 3px;' title='0.0'> a</span><span style='background-color: rgba(0, 165, 0, 0.15); border-radius: 3px;' title='0.0'> beautiful</span><span style='background-color: rgba(0, 165, 0, 0.15); border-radius: 3px;' title='0.0'> place</span><span style='background-color: rgba(0, 165, 0, 0.15); border-radius: 3px;' title='0.0'>,</span><span style='background-color: rgba(0, 165, 0, 0.15); border-radius: 3px;' title='0.0'>\n",
       "</span><span style='background-color: rgba(0, 165, 0, 0.15); border-radius: 3px;' title='0.0'>Full</span><span style='background-color: rgba(0, 165, 0, 0.15); border-radius: 3px;' title='0.0'> of</span><span style='background-color: rgba(0, 165, 0, 0.15); border-radius: 3px;' title='0.0'> wonder</span><span style='background-color: rgba(0, 165, 0, 0.15); border-radius: 3px;' title='0.0'> and</span><span style='background-color: rgba(0, 165, 0, 0.15); border-radius: 3px;' title='0.0'> grace</span></pre>"
      ],
      "text/plain": [
       "<guidance.models._lite_llm.LiteLLMCompletion at 0x11e664110>"
      ]
     },
     "execution_count": 15,
     "metadata": {},
     "output_type": "execute_result"
    }
   ],
   "source": [
    "llm = models.LiteLLMCompletion(\"palm/chat-bison\")\n",
    "llm + f'Do you want a joke or a poem? ' + gen(stop='.')"
   ]
  },
  {
   "cell_type": "code",
   "execution_count": 16,
   "id": "dafca3e5-5833-4e7b-8866-7a978f2289f5",
   "metadata": {},
   "outputs": [
    {
     "data": {
      "text/html": [
       "<pre style='margin: 0px; padding: 0px; padding-left: 8px; margin-left: -8px; border-radius: 0px; border-left: 1px solid rgba(127, 127, 127, 0.2); white-space: pre-wrap; font-family: ColfaxAI, Arial; font-size: 15px; line-height: 23px;'>Do you want a joke or a poem? A <span style='background-color: rgba(0, 165, 0, 0.15); border-radius: 3px;' title='0.0'>joke</span></pre>"
      ],
      "text/plain": [
       "<guidance.models._lite_llm.LiteLLMCompletion at 0x117ec98d0>"
      ]
     },
     "execution_count": 16,
     "metadata": {},
     "output_type": "execute_result"
    }
   ],
   "source": [
    "from guidance import select\n",
    "\n",
    "# a simple select between two options\n",
    "llm + f'Do you want a joke or a poem? A ' + select(['joke', 'poem'])"
   ]
  },
  {
   "cell_type": "code",
   "execution_count": 17,
   "id": "12409ca4-b0c0-4731-b992-e90c47c44a22",
   "metadata": {},
   "outputs": [
    {
     "data": {
      "text/html": [
       "<pre style='margin: 0px; padding: 0px; padding-left: 8px; margin-left: -8px; border-radius: 0px; border-left: 1px solid rgba(127, 127, 127, 0.2); white-space: pre-wrap; font-family: ColfaxAI, Arial; font-size: 15px; line-height: 23px;'>Do you want a joke or a poem? A<span style='background-color: rgba(0, 165, 0, 0.15); border-radius: 3px;' title='0.0'> joke</span>.\n",
       "Okay, here is a one-liner:<span style='background-color: rgba(0, 165, 0, 0.15); border-radius: 3px;' title='0.0'> &quot;</span><span style='background-color: rgba(0, 165, 0, 0.15); border-radius: 3px;' title='0.0'>Why</span><span style='background-color: rgba(0, 165, 0, 0.15); border-radius: 3px;' title='0.0'> did</span><span style='background-color: rgba(0, 165, 0, 0.15); border-radius: 3px;' title='0.0'> the</span><span style='background-color: rgba(0, 165, 0, 0.15); border-radius: 3px;' title='0.0'> scare</span><span style='background-color: rgba(0, 165, 0, 0.15); border-radius: 3px;' title='0.0'>crow</span><span style='background-color: rgba(0, 165, 0, 0.15); border-radius: 3px;' title='0.0'> win</span><span style='background-color: rgba(0, 165, 0, 0.15); border-radius: 3px;' title='0.0'> an</span><span style='background-color: rgba(0, 165, 0, 0.15); border-radius: 3px;' title='0.0'> award</span><span style='background-color: rgba(0, 165, 0, 0.15); border-radius: 3px;' title='0.0'>?</span><span style='background-color: rgba(0, 165, 0, 0.15); border-radius: 3px;' title='0.0'> Because</span><span style='background-color: rgba(0, 165, 0, 0.15); border-radius: 3px;' title='0.0'> he</span><span style='background-color: rgba(0, 165, 0, 0.15); border-radius: 3px;' title='0.0'> was</span><span style='background-color: rgba(0, 165, 0, 0.15); border-radius: 3px;' title='0.0'> outstanding</span><span style='background-color: rgba(0, 165, 0, 0.15); border-radius: 3px;' title='0.0'> in</span><span style='background-color: rgba(0, 165, 0, 0.15); border-radius: 3px;' title='0.0'> his</span><span style='background-color: rgba(0, 165, 0, 0.15); border-radius: 3px;' title='0.0'> field</span>!&quot;<span style='background-color: rgba(0, 165, 0, 0.15); border-radius: 3px;' title='0.0'>\n",
       "</span></pre>"
      ],
      "text/plain": [
       "<guidance.models._lite_llm.LiteLLMCompletion at 0x1208112d0>"
      ]
     },
     "execution_count": 17,
     "metadata": {},
     "output_type": "execute_result"
    }
   ],
   "source": [
    "llm + f'''\\\n",
    "Do you want a joke or a poem? A {select(['joke', 'poem'])}.\n",
    "Okay, here is a one-liner: \"{gen(stop='\"')}\"\n",
    "'''"
   ]
  },
  {
   "cell_type": "code",
   "execution_count": 18,
   "id": "f5612939-b2ce-4f07-93dc-c29f33e687e2",
   "metadata": {},
   "outputs": [
    {
     "data": {
      "text/html": [
       "<pre style='margin: 0px; padding: 0px; padding-left: 8px; margin-left: -8px; border-radius: 0px; border-left: 1px solid rgba(127, 127, 127, 0.2); white-space: pre-wrap; font-family: ColfaxAI, Arial; font-size: 15px; line-height: 23px;'>Do you want a joke or a poem? A<span style='background-color: rgba(0, 165, 0, 0.15); border-radius: 3px;' title='0.0'> joke</span>.<span style='background-color: rgba(0, 165, 0, 0.15); border-radius: 3px;' title='0.0'>\n",
       "</span>Here is a one-line joke about cats:<span style='background-color: rgba(0, 165, 0, 0.15); border-radius: 3px;' title='0.0'> Why</span><span style='background-color: rgba(0, 165, 0, 0.15); border-radius: 3px;' title='0.0'> did</span><span style='background-color: rgba(0, 165, 0, 0.15); border-radius: 3px;' title='0.0'> the</span><span style='background-color: rgba(0, 165, 0, 0.15); border-radius: 3px;' title='0.0'> cat</span><span style='background-color: rgba(0, 165, 0, 0.15); border-radius: 3px;' title='0.0'> go</span><span style='background-color: rgba(0, 165, 0, 0.15); border-radius: 3px;' title='0.0'> to</span><span style='background-color: rgba(0, 165, 0, 0.15); border-radius: 3px;' title='0.0'> the</span><span style='background-color: rgba(0, 165, 0, 0.15); border-radius: 3px;' title='0.0'> library</span><span style='background-color: rgba(0, 165, 0, 0.15); border-radius: 3px;' title='0.0'>?</span><span style='background-color: rgba(0, 165, 0, 0.15); border-radius: 3px;' title='0.0'> To</span><span style='background-color: rgba(0, 165, 0, 0.15); border-radius: 3px;' title='0.0'> check</span><span style='background-color: rgba(0, 165, 0, 0.15); border-radius: 3px;' title='0.0'> out</span><span style='background-color: rgba(0, 165, 0, 0.15); border-radius: 3px;' title='0.0'> a</span><span style='background-color: rgba(0, 165, 0, 0.15); border-radius: 3px;' title='0.0'> book</span><span style='background-color: rgba(0, 165, 0, 0.15); border-radius: 3px;' title='0.0'> on</span><span style='background-color: rgba(0, 165, 0, 0.15); border-radius: 3px;' title='0.0'> mice</span><span style='background-color: rgba(0, 165, 0, 0.15); border-radius: 3px;' title='0.0'>!</span></pre>"
      ],
      "text/plain": [
       "<IPython.core.display.HTML object>"
      ]
     },
     "metadata": {},
     "output_type": "display_data"
    }
   ],
   "source": [
    "# capture our selection under the name 'answer'\n",
    "lm = llm + f\"Do you want a joke or a poem? A {select(['joke', 'poem'], name='answer')}.\\n\"\n",
    "\n",
    "# make a choice based on the model's previous selection\n",
    "if lm[\"answer\"] == \"joke\":\n",
    "    lm += f\"Here is a one-line joke about cats: \" + gen('output', stop='\\n')\n",
    "else:\n",
    "    lm += f\"Here is a one-line poem about dogs: \" + gen('output', stop='\\n')"
   ]
  },
  {
   "cell_type": "code",
   "execution_count": null,
   "id": "7d690d14-db86-4d28-9012-c1164d9c06a2",
   "metadata": {},
   "outputs": [],
   "source": []
  }
 ],
 "metadata": {
  "kernelspec": {
   "display_name": "Python 3 (ipykernel)",
   "language": "python",
   "name": "python3"
  },
  "language_info": {
   "codemirror_mode": {
    "name": "ipython",
    "version": 3
   },
   "file_extension": ".py",
   "mimetype": "text/x-python",
   "name": "python",
   "nbconvert_exporter": "python",
   "pygments_lexer": "ipython3",
   "version": "3.11.6"
  }
 },
 "nbformat": 4,
 "nbformat_minor": 5
}
